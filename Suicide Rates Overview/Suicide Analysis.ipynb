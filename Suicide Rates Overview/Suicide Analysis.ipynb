{
 "cells": [
  {
   "cell_type": "markdown",
   "metadata": {},
   "source": [
    "## Analyzing the data"
   ]
  },
  {
   "cell_type": "code",
   "execution_count": 24,
   "metadata": {
    "scrolled": true
   },
   "outputs": [],
   "source": [
    "import pandas\n",
    "import numpy\n",
    "import matplotlib.pyplot as plt\n",
    "\n",
    "from sklearn.preprocessing import MinMaxScaler\n",
    "\n",
    "from pandas import get_dummies\n",
    "from pandas import Series\n",
    "\n",
    "# Load the dataset\n",
    "filename = 'suicide-rates.csv'\n",
    "data = pandas.read_csv(filename)\n",
    "#print(data.isnull().sum()) # Checks the values with NaN values\n",
    "data = data.drop(columns=['HDI for year', 'country-year', 'year', 'country', 'generation']) # too many NaN values"
   ]
  },
  {
   "cell_type": "code",
   "execution_count": 25,
   "metadata": {},
   "outputs": [],
   "source": [
    "# Transform gdp_for_year from string to integer\n",
    "gdp_for_year = numpy.array([], dtype=numpy.int64)\n",
    "for sample in data[\"gdp_for_year ($)\"].values:\n",
    "    integer_value = int(sample.replace(\",\", \"\"))\n",
    "    gdp_for_year = numpy.append(gdp_for_year, integer_value)\n",
    "data[\"gdp_for_year ($)\"] = gdp_for_year"
   ]
  },
  {
   "cell_type": "code",
   "execution_count": 26,
   "metadata": {},
   "outputs": [],
   "source": [
    "# Transform male and female from categorical values to quantitative\n",
    "genders = get_dummies(data['sex'])\n",
    "for key in genders.keys():\n",
    "    data[key] = genders[key]\n",
    "data = data.drop(columns=['sex'])\n",
    "\n",
    "# Transform age data from categorical values\n",
    "age_mapping = {\n",
    "    '5-14 years': 0,\n",
    "    '15-24 years': 1,\n",
    "    '25-34 years': 2,\n",
    "    '35-54 years': 3,\n",
    "    '55-74 years': 4,\n",
    "    '75+ years': 5\n",
    "}\n",
    "data['age'] = data['age'].map(age_mapping)\n",
    "\n",
    "# Scale values\n",
    "scaler = MinMaxScaler(feature_range=(0, 1))\n",
    "\n",
    "X = data.drop(columns=['suicides_no', 'suicides/100k pop'])\n",
    "X['age'] = scaler.fit_transform(X[['age']])\n",
    "X['population'] = scaler.fit_transform(X[['population']])\n",
    "X['gdp_for_year ($)'] = scaler.fit_transform(X[['gdp_for_year ($)']])\n",
    "X['gdp_per_capita ($)'] = scaler.fit_transform(X[['gdp_per_capita ($)']])\n",
    "\n",
    "Y1 = scaler.fit_transform(data[['suicides_no']])\n",
    "Y1 = scaler.fit_transform(data[['suicides/100k pop']])\n"
   ]
  },
  {
   "cell_type": "code",
   "execution_count": 27,
   "metadata": {},
   "outputs": [
    {
     "name": "stdout",
     "output_type": "stream",
     "text": [
      "Accuracy: 28.908%\n"
     ]
    }
   ],
   "source": [
    "from sklearn.model_selection import train_test_split\n",
    "from sklearn.linear_model import LinearRegression\n",
    "\n",
    "# evaluate using a train and a test set\n",
    "X_train, X_test, Y_train, Y_test = train_test_split(X, Y1, test_size=0.33, random_state=7)\n",
    "model = LinearRegression()\n",
    "model.fit(X_train, Y_train)\n",
    "result = model.score(X_test, Y_test)\n",
    "print(\"Accuracy: %.3f%%\" % (result * 100.0))"
   ]
  },
  {
   "cell_type": "code",
   "execution_count": null,
   "metadata": {},
   "outputs": [],
   "source": []
  }
 ],
 "metadata": {
  "kernelspec": {
   "display_name": "Python 3",
   "language": "python",
   "name": "python3"
  },
  "language_info": {
   "codemirror_mode": {
    "name": "ipython",
    "version": 3
   },
   "file_extension": ".py",
   "mimetype": "text/x-python",
   "name": "python",
   "nbconvert_exporter": "python",
   "pygments_lexer": "ipython3",
   "version": "3.6.7"
  }
 },
 "nbformat": 4,
 "nbformat_minor": 2
}
